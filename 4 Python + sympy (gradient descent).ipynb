{
 "cells": [
  {
   "cell_type": "code",
   "execution_count": 1,
   "metadata": {
    "id": "X63d3Z4SN8rr"
   },
   "outputs": [],
   "source": [
    "from sympy import *\n",
    "import numpy as np"
   ]
  },
  {
   "cell_type": "code",
   "execution_count": 2,
   "metadata": {},
   "outputs": [],
   "source": [
    "#Реализация алгоритма градиентного спуска (это \"игрушечная\" реализация! \n",
    "#Для работы, разумеется, использовать sci-lear, в котором грамотная реализация стохастического градиентного спуска)\n",
    "\n",
    "#Зададим функцию рассчёта MSE (рассчёта среднеквадратичного отклонения)\n",
    "def MSE(A, X, B):\n",
    "    result_MSE = 0\n",
    "    for i in range(len(B)):\n",
    "        result_MSE += ( Matrix(A[i]).dot(Matrix(X)) - B[i] )**2 \n",
    "    return(result_MSE / len(B))"
   ]
  },
  {
   "cell_type": "code",
   "execution_count": 3,
   "metadata": {},
   "outputs": [],
   "source": [
    "#Далее зададим сами матрицы, соответствующие тестовой задаче\n",
    "#A - матрица из вектор-строк характеристик объекта (например, в каждой строке площадь дома, количество этажей  и т.д.)\n",
    "#B - вектор значений рассматриваемой величины при данном наборе  характеристик (например, стоимостей домов)\n",
    "#X - вектор весов (при передаче вектора символов получим символьную запись MSE, при передаче чисел - конкретное значение.\n",
    "A = np.array([[5, 7, -5], [0, -2, 2], [-4, -8, -7], [1, 1, 2], [2, -1, 2], [4, 1, 4]])\n",
    "B = np.array([-47, 10, 63, -1, -4, -2])\n",
    "\n",
    "#И создадим соответствующий вектор символьных переменных\n",
    "X = []\n",
    "for i in range(1, len(A[0]) + 1, 1):\n",
    "    exec(f'a{i} = Symbol(f\"a{i}\")')\n",
    "    exec(f'X.append(f\"a{i}\")')\n",
    "X = np.array(X)"
   ]
  },
  {
   "cell_type": "code",
   "execution_count": 4,
   "metadata": {},
   "outputs": [
    {
     "data": {
      "text/latex": [
       "$\\displaystyle \\frac{\\left(- 2 a_{2} + 2 a_{3} - 10\\right)^{2}}{6} + \\frac{\\left(- 4 a_{1} - 8 a_{2} - 7 a_{3} - 63\\right)^{2}}{6} + \\frac{\\left(a_{1} + a_{2} + 2 a_{3} + 1\\right)^{2}}{6} + \\frac{\\left(2 a_{1} - a_{2} + 2 a_{3} + 4\\right)^{2}}{6} + \\frac{\\left(4 a_{1} + a_{2} + 4 a_{3} + 2\\right)^{2}}{6} + \\frac{\\left(5 a_{1} + 7 a_{2} - 5 a_{3} + 47\\right)^{2}}{6}$"
      ],
      "text/plain": [
       "(-2*a2 + 2*a3 - 10)**2/6 + (-4*a1 - 8*a2 - 7*a3 - 63)**2/6 + (a1 + a2 + 2*a3 + 1)**2/6 + (2*a1 - a2 + 2*a3 + 4)**2/6 + (4*a1 + a2 + 4*a3 + 2)**2/6 + (5*a1 + 7*a2 - 5*a3 + 47)**2/6"
      ]
     },
     "execution_count": 4,
     "metadata": {},
     "output_type": "execute_result"
    }
   ],
   "source": [
    "#Таким образом MSE для поставленной нами задачи в общем виде подсчитывается по формуле\n",
    "MSE_formula = MSE(A, X, B)\n",
    "MSE_formula"
   ]
  },
  {
   "cell_type": "code",
   "execution_count": 5,
   "metadata": {},
   "outputs": [
    {
     "data": {
      "text/plain": [
       "[-62*a1/3 - 70*a2/3 - 25*a3/3 - 168,\n",
       " -70*a1/3 - 40*a2 - 7*a3 - 284,\n",
       " -25*a1/3 - 7*a2 - 34*a3 - 68]"
      ]
     },
     "execution_count": 5,
     "metadata": {},
     "output_type": "execute_result"
    }
   ],
   "source": [
    "#Получим вектор антиградиента для функции MSE\n",
    "MSE_antigrad = []\n",
    "for x_coord in X:\n",
    "    MSE_antigrad.append((-1)*diff(MSE_formula, x_coord))\n",
    "MSE_antigrad"
   ]
  },
  {
   "cell_type": "code",
   "execution_count": 6,
   "metadata": {},
   "outputs": [],
   "source": [
    "#И функцию, позволяющую вычислить значение вектора антиградиента (вектора частных производных - partial_derivative)\n",
    "#в любой конкретной точке\n",
    "def antigrad_sub_dot(antigrad, dot):\n",
    "    result = []\n",
    "    for partial_derivative in antigrad:\n",
    "        result.append(partial_derivative.subs(dict(zip(X, dot))))\n",
    "    return np.array(result)"
   ]
  },
  {
   "cell_type": "code",
   "execution_count": 34,
   "metadata": {},
   "outputs": [],
   "source": [
    "#движение начнём из нулевой точки\n",
    "import time\n",
    "scores = []\n",
    "step = 0.01\n",
    "\n",
    "while step < 0.05:\n",
    "    #Время начала выполнения, начальная точка и MSE, шаг\n",
    "    start_time = time.time()\n",
    "    prev_dot = np.array([0]*len(A[0]))\n",
    "    prev_MSE = MSE_formula.subs(dict(zip(X, prev_dot)))\n",
    "    eps = 0.1\n",
    "\n",
    "    #для предотвращения долгих циклов на поверхностях с асциляцией ограничим max число итераций\n",
    "    iter_count, limit = 0, 1000\n",
    "    while(iter_count < limit):\n",
    "        #Получим новую точку\n",
    "        next_dot = prev_dot + step*antigrad_sub_dot(MSE_antigrad, prev_dot)\n",
    "        next_MSE = MSE_formula.subs(dict(zip(X, next_dot)))\n",
    "        #Проверим условие выхода из цикла, если не выполнено - сместимся на следующую точку\n",
    "        if abs(prev_MSE - next_MSE) < eps:\n",
    "            break\n",
    "        else:\n",
    "            prev_dot = next_dot\n",
    "            prev_MSE = next_MSE\n",
    "            iter_count += 1\n",
    "    time_for_work = time.time() - start_time\n",
    "    scores.append(time_for_work)\n",
    "    step += 0.005"
   ]
  },
  {
   "cell_type": "code",
   "execution_count": 35,
   "metadata": {},
   "outputs": [
    {
     "data": {
      "text/plain": [
       "[2.672685384750366,\n",
       " 2.127756118774414,\n",
       " 1.5909252166748047,\n",
       " 1.3453969955444336,\n",
       " 1.4617161750793457,\n",
       " 74.3374834060669,\n",
       " 73.70387172698975,\n",
       " 73.22369623184204,\n",
       " 73.49038195610046]"
      ]
     },
     "execution_count": 35,
     "metadata": {},
     "output_type": "execute_result"
    }
   ],
   "source": [
    "scores"
   ]
  },
  {
   "cell_type": "code",
   "execution_count": 38,
   "metadata": {},
   "outputs": [
    {
     "data": {
      "image/png": "[encoded data removed]",
      "text/plain": [
       "<Figure size 432x288 with 1 Axes>"
      ]
     },
     "metadata": {
      "needs_background": "light"
     },
     "output_type": "display_data"
    }
   ],
   "source": [
    "#Визуализируем результаты\n",
    "import matplotlib.pyplot as plt\n",
    "x = np.linspace(0.01, 0.05, num=9)\n",
    "y = np.array(scores, dtype=np.float32)\n",
    "\n",
    "plt.xlabel('step')\n",
    "plt.ylabel('work score')\n",
    "plt.scatter(x, y, 40, 'g', 'o')\n",
    "plt.show()"
   ]
  },
  {
   "cell_type": "code",
   "execution_count": 39,
   "metadata": {},
   "outputs": [],
   "source": [
    "#Видим что хотя на начальном этапе увеличение шага приводит к некоторому сокращению времени работы алгоритма,\n",
    "#но на определённом значении небольшое увеличение коеффициента шага градиентного спуска\n",
    "#уже приводит к колоссальному росту времени нахождения экстремума с той же точностью."
   ]
  }
 ],
 "metadata": {
  "colab": {
   "name": "9.1 Введение.ipynb",
   "provenance": []
  },
  "kernelspec": {
   "display_name": "Python 3",
   "language": "python",
   "name": "python3"
  },
  "language_info": {
   "codemirror_mode": {
    "name": "ipython",
    "version": 3
   },
   "file_extension": ".py",
   "mimetype": "text/x-python",
   "name": "python",
   "nbconvert_exporter": "python",
   "pygments_lexer": "ipython3",
   "version": "3.8.5"
  }
 },
 "nbformat": 4,
 "nbformat_minor": 1
}
